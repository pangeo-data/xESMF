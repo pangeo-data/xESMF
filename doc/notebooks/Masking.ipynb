{
 "cells": [
  {
   "cell_type": "markdown",
   "metadata": {},
   "source": [
    "# Masking and extrapolation in xESMF\n",
    "\n",
    "(contributed by [Raphael Dussin](https://github.com/raphaeldussin), based on previous work from [@jhamman](https://github.com/jhamman), [@RondeauG](https://github.com/RondeauG), [@trondkr](https://github.com/trondkr) and others)"
   ]
  },
  {
   "cell_type": "markdown",
   "metadata": {},
   "source": [
    "By default, xESMF treats NaNs like regular values hence potentially resulting in missing values bleeding into the regridded field and creating insconsistencies in the resulting masked array. To overcome this issue, we can use explicit masking of the source and target grids."
   ]
  },
  {
   "cell_type": "code",
   "execution_count": null,
   "metadata": {},
   "outputs": [],
   "source": [
    "import xarray as xr\n",
    "import xesmf\n",
    "import numpy as np"
   ]
  },
  {
   "cell_type": "code",
   "execution_count": null,
   "metadata": {},
   "outputs": [],
   "source": [
    "import warnings\n",
    "warnings.filterwarnings(\"ignore\")"
   ]
  },
  {
   "cell_type": "markdown",
   "metadata": {},
   "source": [
    "## Preparing the grids"
   ]
  },
  {
   "cell_type": "markdown",
   "metadata": {},
   "source": [
    "For this tutorial, we're using a dataset from the ROMS ocean model from this [xarray tutorial](http://xarray.pydata.org/en/stable/examples/ROMS_ocean_model.html)"
   ]
  },
  {
   "cell_type": "code",
   "execution_count": null,
   "metadata": {},
   "outputs": [],
   "source": [
    "ds = xr.tutorial.open_dataset('ROMS_example.nc', chunks={'ocean_time': 1})"
   ]
  },
  {
   "cell_type": "markdown",
   "metadata": {},
   "source": [
    "To use conservative regidding, we need the cells corners. Since they are not provided,\n",
    "we are creating some using a crude approximation. **Please don't try this at home!**"
   ]
  },
  {
   "cell_type": "code",
   "execution_count": null,
   "metadata": {},
   "outputs": [],
   "source": [
    "lon_centers = ds['lon_rho'].values\n",
    "lat_centers = ds['lat_rho'].values\n",
    "\n",
    "lon_corners = 0.25 *(lon_centers[:-1,:-1] + \n",
    "                     lon_centers[1:,:-1] +\n",
    "                     lon_centers[:-1,1:] +\n",
    "                     lon_centers[1:,1:])\n",
    "\n",
    "lat_corners = 0.25 *(lat_centers[:-1,:-1] + \n",
    "                     lat_centers[1:,:-1] +\n",
    "                     lat_centers[:-1,1:] +\n",
    "                     lat_centers[1:,1:])\n",
    "\n",
    "ds['lon_psi'] = xr.DataArray(data=lon_corners, dims=('eta_psi', 'xi_psi'))\n",
    "ds['lat_psi'] = xr.DataArray(data=lat_corners, dims=('eta_psi', 'xi_psi'))\n",
    "\n",
    "ds = ds.assign_coords({'lon_psi': ds['lon_psi'],\n",
    "                       'lat_psi': ds['lat_psi']})\n",
    "\n",
    "# remove exterior rho points and cut 9 extra points to make\n",
    "# zeta divisible by 10 for coarsening\n",
    "ds = ds.isel(eta_rho=slice(1,-10), xi_rho=slice(1,-10),\n",
    "             eta_psi=slice(0,-9), xi_psi=slice(0,-9))"
   ]
  },
  {
   "cell_type": "markdown",
   "metadata": {},
   "source": [
    "We also need a coarse resolution grid. We're going to build one by coarsening the ROMS dataset. **coarsen.mean()** typically works as a nan-mean on the 10x10 blocks of the grid so the resulting land mask looks like a flooded version of the original."
   ]
  },
  {
   "cell_type": "code",
   "execution_count": null,
   "metadata": {},
   "outputs": [],
   "source": [
    "ds_coarse = xr.Dataset()\n",
    "\n",
    "ds_coarse['zeta'] = xr.DataArray(ds['zeta'].coarsen(xi_rho=10, eta_rho=10).mean().values,\n",
    "                                 dims=('ocean_time', 'eta_rho', 'xi_rho'))\n",
    "# we want to subsample coordinates instead of coarsening them\n",
    "ds_coarse['lon_rho'] = xr.DataArray(ds['lon_rho'].values[::10,::10],\n",
    "                                    dims=('eta_rho', 'xi_rho'))\n",
    "ds_coarse['lon_psi'] = xr.DataArray(ds['lon_psi'].values[::10,::10],\n",
    "                                    dims=('eta_psi', 'xi_psi'))\n",
    "ds_coarse['lat_rho'] = xr.DataArray(ds['lat_rho'].values[::10,::10],\n",
    "                                    dims=('eta_rho', 'xi_rho'))\n",
    "ds_coarse['lat_psi'] = xr.DataArray(ds['lat_psi'].values[::10,::10],\n",
    "                                    dims=('eta_psi', 'xi_psi'))"
   ]
  },
  {
   "cell_type": "markdown",
   "metadata": {},
   "source": [
    "We now have our 2 grids to test the masking in xESMF. Now let's say we want to conservatively remap the fine ocean model output onto the coarse resolution grid."
   ]
  },
  {
   "cell_type": "code",
   "execution_count": null,
   "metadata": {},
   "outputs": [],
   "source": [
    "ds['zeta'].isel(ocean_time=0).plot()"
   ]
  },
  {
   "cell_type": "code",
   "execution_count": null,
   "metadata": {},
   "outputs": [],
   "source": [
    "ds_coarse['zeta'].isel(ocean_time=0).plot()"
   ]
  },
  {
   "cell_type": "markdown",
   "metadata": {},
   "source": [
    "## Regridding without a mask"
   ]
  },
  {
   "cell_type": "markdown",
   "metadata": {},
   "source": [
    "As usual, xESMF expects fixed variable names for longitude/latitude in cell centers and corners:"
   ]
  },
  {
   "cell_type": "code",
   "execution_count": null,
   "metadata": {},
   "outputs": [],
   "source": [
    "ds['lon'] = ds['lon_rho']\n",
    "ds['lat'] = ds['lat_rho']\n",
    "ds['lon_b'] = ds['lon_psi']\n",
    "ds['lat_b'] = ds['lat_psi']\n",
    "\n",
    "ds_coarse['lon'] = ds_coarse['lon_rho']\n",
    "ds_coarse['lat'] = ds_coarse['lat_rho']\n",
    "ds_coarse['lon_b'] = ds_coarse['lon_psi']\n",
    "ds_coarse['lat_b'] = ds_coarse['lat_psi']"
   ]
  },
  {
   "cell_type": "markdown",
   "metadata": {},
   "source": [
    "In our first test, there is no masking involved and we define the regridder the typical way:"
   ]
  },
  {
   "cell_type": "code",
   "execution_count": null,
   "metadata": {},
   "outputs": [],
   "source": [
    "regrid_nomask = xesmf.Regridder(ds, ds_coarse, method='conservative_normed')"
   ]
  },
  {
   "cell_type": "code",
   "execution_count": null,
   "metadata": {},
   "outputs": [],
   "source": [
    "zeta_remapped = regrid_nomask(ds['zeta'])"
   ]
  },
  {
   "cell_type": "code",
   "execution_count": null,
   "metadata": {},
   "outputs": [],
   "source": [
    "zeta_remapped.isel(ocean_time=0).plot()"
   ]
  },
  {
   "cell_type": "markdown",
   "metadata": {},
   "source": [
    "Because of the missing values (NaNs) bleeding into the regridding, we end up with a land mask that is much bigger than the one of the coarse grid. That's where masking is gonna help us getting it right."
   ]
  },
  {
   "cell_type": "markdown",
   "metadata": {},
   "source": [
    "## Regridding with a mask"
   ]
  },
  {
   "cell_type": "markdown",
   "metadata": {},
   "source": [
    "To use masking, we need to add a dataarray named **mask** to our datasets. \n",
    "Let's define our masks on the high and coarse resolution grids from the missing values in the\n",
    "zeta array:"
   ]
  },
  {
   "cell_type": "code",
   "execution_count": null,
   "metadata": {},
   "outputs": [],
   "source": [
    "ds['mask'] = xr.where(~np.isnan(ds['zeta'].isel(ocean_time=0)), 1, 0)"
   ]
  },
  {
   "cell_type": "code",
   "execution_count": null,
   "metadata": {},
   "outputs": [],
   "source": [
    "ds['mask'].plot(cmap='binary_r')"
   ]
  },
  {
   "cell_type": "code",
   "execution_count": null,
   "metadata": {},
   "outputs": [],
   "source": [
    "ds_coarse['mask'] = xr.where(~np.isnan(ds_coarse['zeta'].isel(ocean_time=0)), 1, 0)"
   ]
  },
  {
   "cell_type": "code",
   "execution_count": null,
   "metadata": {},
   "outputs": [],
   "source": [
    "ds_coarse['mask'].plot(cmap='binary_r')"
   ]
  },
  {
   "cell_type": "markdown",
   "metadata": {},
   "source": [
    "Now let's try to regrid again:"
   ]
  },
  {
   "cell_type": "code",
   "execution_count": null,
   "metadata": {},
   "outputs": [],
   "source": [
    "regrid_mask = xesmf.Regridder(ds, ds_coarse, method='conservative_normed')"
   ]
  },
  {
   "cell_type": "code",
   "execution_count": null,
   "metadata": {},
   "outputs": [],
   "source": [
    "zeta_remapped = regrid_mask(ds['zeta'])"
   ]
  },
  {
   "cell_type": "code",
   "execution_count": null,
   "metadata": {},
   "outputs": [],
   "source": [
    "zeta_remapped.isel(ocean_time=0).plot()"
   ]
  },
  {
   "cell_type": "markdown",
   "metadata": {},
   "source": [
    "Now we have our conservative remapping consistent with the coarse grid, yay!!"
   ]
  },
  {
   "cell_type": "markdown",
   "metadata": {},
   "source": [
    "## Limitations and warnings"
   ]
  },
  {
   "cell_type": "markdown",
   "metadata": {},
   "source": [
    "* mask can only be 2D (ESMF design) so regridding a 3D field requires to generate regridding weights for each vertical level.\n",
    "\n",
    "* conservative method will give you a normalization by the total area of the target cell. Except for some specific cases, you probably want to use conservative_normed.\n",
    "\n",
    "* results with other methods (e.g. bilinear) may not give masks consistent with the coarse grid."
   ]
  },
  {
   "cell_type": "markdown",
   "metadata": {},
   "source": [
    "### 1. Conservative (un-normed) example"
   ]
  },
  {
   "cell_type": "code",
   "execution_count": null,
   "metadata": {},
   "outputs": [],
   "source": [
    "regrid_masked2 = xesmf.Regridder(ds, ds_coarse, method='conservative')\n",
    "zeta_remapped2 = regrid_masked2(ds['zeta'])\n",
    "zeta_remapped2.isel(ocean_time=0).plot()"
   ]
  },
  {
   "cell_type": "markdown",
   "metadata": {},
   "source": [
    "### 2. Bilinear example"
   ]
  },
  {
   "cell_type": "code",
   "execution_count": null,
   "metadata": {},
   "outputs": [],
   "source": [
    "regrid_masked3 = xesmf.Regridder(ds, ds_coarse, method='bilinear')\n",
    "zeta_remapped3 = regrid_masked3(ds['zeta'])\n",
    "zeta_remapped3.isel(ocean_time=0).plot()"
   ]
  },
  {
   "cell_type": "markdown",
   "metadata": {},
   "source": [
    "## Extrapolation"
   ]
  },
  {
   "cell_type": "markdown",
   "metadata": {},
   "source": [
    "As we saw in the previous example, the bilinear interpolation was not providing a value at all the destination points. This is where the extrapolation becomes useful. xESMF allows to use the ESMF algorithms described in this [section of the ESMF documentation](http://www.earthsystemmodeling.org/esmf_releases/public/ESMF_8_0_0/ESMF_refdoc/node5.html#sec:extrapolation:overview). This is a very short example and more options are available. Please refer to the aforementioned documentation for more details."
   ]
  },
  {
   "cell_type": "code",
   "execution_count": null,
   "metadata": {},
   "outputs": [],
   "source": [
    "regrid_extrap = xesmf.Regridder(ds, ds_coarse, method='bilinear',\n",
    "                                extrap_method='nearest_s2d')"
   ]
  },
  {
   "cell_type": "code",
   "execution_count": null,
   "metadata": {},
   "outputs": [],
   "source": [
    "zeta_remapped_extrap = regrid_extrap(ds['zeta'])"
   ]
  },
  {
   "cell_type": "code",
   "execution_count": null,
   "metadata": {},
   "outputs": [],
   "source": [
    "zeta_remapped_extrap.isel(ocean_time=0).plot()"
   ]
  }
 ],
 "metadata": {
  "kernelspec": {
   "display_name": "Python 3",
   "language": "python",
   "name": "python3"
  },
  "language_info": {
   "codemirror_mode": {
    "name": "ipython",
    "version": 3
   },
   "file_extension": ".py",
   "mimetype": "text/x-python",
   "name": "python",
   "nbconvert_exporter": "python",
   "pygments_lexer": "ipython3",
   "version": "3.8.5"
  }
 },
 "nbformat": 4,
 "nbformat_minor": 4
}
