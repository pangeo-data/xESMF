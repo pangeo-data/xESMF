{
 "cells": [
  {
   "cell_type": "markdown",
   "metadata": {},
   "source": [
    "# Averaging over a region\n",
    "\n",
    "Although this may not sound like _real_ regridding, averaging a gridded field\n",
    "over a region is supported by `ESMF`. This works because the `conservative`\n",
    "regridding method preserves the areal average of the input field. That is, _the\n",
    "value at each output grid cell is the average input value over the output grid\n",
    "area_. Instead of mapping the input field unto rectangular outputs cells, it's\n",
    "mapped unto an irregular mesh defined by an outer polygon. In other words,\n",
    "applying the regridding weights computes the exact areal-average of the input\n",
    "grid over each polygon.\n",
    "\n",
    "This process relies on converting `shapely.Polygon` and `shapely.MultiPolygon`\n",
    "objects into `ESMF.Mesh` objects. However, ESMF meshes do not support all\n",
    "features that come with shapely's (Multi)Polyons. Indeed, mesh elements do not\n",
    "support interior holes, or multiple non-touching parts, as do `shapely` objects.\n",
    "The `xesmf.SpatialAverager` class works around these issues by computing\n",
    "independent weights for interior holes and multi-part geometries, before\n",
    "combining the weights.\n",
    "\n",
    "Transforming polygons into a `ESMF.Mesh` is a slow process. Users looking for\n",
    "faster (but approximate) methods may want to explore\n",
    "[regionmask](https://regionmask.readthedocs.io/) or\n",
    "[clisops](https://clisops.readthedocs.io).\n",
    "\n",
    "Also, note that low resolution polygons such as large boxes might get distorted\n",
    "when mapped on a sphere. Make sure polygon segments are at sufficiently high\n",
    "resolution, on the order of 1°. The `shapely` package (v2) has a\n",
    "[`segmentize` function](https://shapely.readthedocs.io/en/latest/reference/shapely.segmentize.html)\n",
    "to add vertices to polygon segments.\n",
    "\n",
    "The following example shows just how simple it is to compute the average over\n",
    "different countries. The notebook used `geopandas`, a simple and efficient\n",
    "container for geometries, and `descartes` for plotting maps. Make sure both\n",
    "packages are installed, as they are not `xesmf` dependencies.\n"
   ]
  },
  {
   "cell_type": "code",
   "execution_count": 1,
   "metadata": {},
   "outputs": [
    {
     "data": {
      "text/plain": [
       "<xarray.core.options.set_options at 0x7fdc3c03b1c0>"
      ]
     },
     "execution_count": 1,
     "metadata": {},
     "output_type": "execute_result"
    }
   ],
   "source": [
    "%matplotlib inline\n",
    "import matplotlib.pyplot as plt\n",
    "import geopandas as gpd\n",
    "import pandas as pd\n",
    "from shapely.geometry import Polygon, MultiPolygon\n",
    "import numpy as np\n",
    "import xarray as xr\n",
    "import xesmf as xe\n",
    "import warnings\n",
    "\n",
    "warnings.filterwarnings(\"ignore\")\n",
    "xr.set_options(display_style='text')"
   ]
  },
  {
   "cell_type": "markdown",
   "metadata": {},
   "source": [
    "## Simple example\n",
    "\n",
    "In this example we'll create a synthetic global field, then compute its average\n",
    "over six countries.\n",
    "\n",
    "### Download country outlines\n"
   ]
  },
  {
   "cell_type": "code",
   "execution_count": 2,
   "metadata": {
    "scrolled": true
   },
   "outputs": [
    {
     "data": {
      "text/html": [
       "<div>\n",
       "<style scoped>\n",
       "    .dataframe tbody tr th:only-of-type {\n",
       "        vertical-align: middle;\n",
       "    }\n",
       "\n",
       "    .dataframe tbody tr th {\n",
       "        vertical-align: top;\n",
       "    }\n",
       "\n",
       "    .dataframe thead th {\n",
       "        text-align: right;\n",
       "    }\n",
       "</style>\n",
       "<table border=\"1\" class=\"dataframe\">\n",
       "  <thead>\n",
       "    <tr style=\"text-align: right;\">\n",
       "      <th></th>\n",
       "      <th>id</th>\n",
       "      <th>name</th>\n",
       "      <th>geometry</th>\n",
       "    </tr>\n",
       "  </thead>\n",
       "  <tbody>\n",
       "    <tr>\n",
       "      <th>5</th>\n",
       "      <td>032</td>\n",
       "      <td>Argentina</td>\n",
       "      <td>MULTIPOLYGON (((-67.19287 -22.82225, -67.02727...</td>\n",
       "    </tr>\n",
       "    <tr>\n",
       "      <th>9</th>\n",
       "      <td>156</td>\n",
       "      <td>China</td>\n",
       "      <td>MULTIPOLYGON (((77.79858 35.49614, 77.66178 35...</td>\n",
       "    </tr>\n",
       "    <tr>\n",
       "      <th>37</th>\n",
       "      <td>710</td>\n",
       "      <td>South Africa</td>\n",
       "      <td>MULTIPOLYGON (((19.98200 -24.75230, 20.10800 -...</td>\n",
       "    </tr>\n",
       "    <tr>\n",
       "      <th>67</th>\n",
       "      <td>724</td>\n",
       "      <td>Spain</td>\n",
       "      <td>MULTIPOLYGON (((-5.34065 35.84736, -5.37665 35...</td>\n",
       "    </tr>\n",
       "    <tr>\n",
       "      <th>98</th>\n",
       "      <td>466</td>\n",
       "      <td>Mali</td>\n",
       "      <td>POLYGON ((-12.26352 14.77561, -12.13752 14.784...</td>\n",
       "    </tr>\n",
       "    <tr>\n",
       "      <th>155</th>\n",
       "      <td>484</td>\n",
       "      <td>Mexico</td>\n",
       "      <td>MULTIPOLYGON (((-97.13797 25.96581, -97.16677 ...</td>\n",
       "    </tr>\n",
       "  </tbody>\n",
       "</table>\n",
       "</div>"
      ],
      "text/plain": [
       "      id          name                                           geometry\n",
       "5    032     Argentina  MULTIPOLYGON (((-67.19287 -22.82225, -67.02727...\n",
       "9    156         China  MULTIPOLYGON (((77.79858 35.49614, 77.66178 35...\n",
       "37   710  South Africa  MULTIPOLYGON (((19.98200 -24.75230, 20.10800 -...\n",
       "67   724         Spain  MULTIPOLYGON (((-5.34065 35.84736, -5.37665 35...\n",
       "98   466          Mali  POLYGON ((-12.26352 14.77561, -12.13752 14.784...\n",
       "155  484        Mexico  MULTIPOLYGON (((-97.13797 25.96581, -97.16677 ..."
      ]
     },
     "execution_count": 2,
     "metadata": {},
     "output_type": "execute_result"
    }
   ],
   "source": [
    "# Load some polygons from the internet\n",
    "regs = gpd.read_file(\n",
    "    \"https://cdn.jsdelivr.net/npm/world-atlas@2/countries-10m.json\"\n",
    ")\n",
    "\n",
    "# Select a few countries for the sake of the example\n",
    "regs = regs.iloc[[5, 9, 37, 67, 98, 155]]\n",
    "\n",
    "# Simplify the geometries to a 0.02 deg tolerance, which is 1/100 of our grid.\n",
    "# The simpler the polygons, the faster the averaging, but we lose some precision.\n",
    "regs[\"geometry\"] = regs.simplify(tolerance=0.02, preserve_topology=True)\n",
    "regs"
   ]
  },
  {
   "cell_type": "code",
   "execution_count": 3,
   "metadata": {},
   "outputs": [
    {
     "data": {
      "text/html": [
       "<pre>&lt;xarray.Dataset&gt;\n",
       "Dimensions:  (x: 180, x_b: 181, y: 90, y_b: 91)\n",
       "Coordinates:\n",
       "    lon      (y, x) float64 -179.0 -177.0 -175.0 -173.0 ... 175.0 177.0 179.0\n",
       "    lat      (y, x) float64 -89.0 -89.0 -89.0 -89.0 ... 89.0 89.0 89.0 89.0\n",
       "    lon_b    (y_b, x_b) int64 -180 -178 -176 -174 -172 ... 172 174 176 178 180\n",
       "    lat_b    (y_b, x_b) int64 -90 -90 -90 -90 -90 -90 -90 ... 90 90 90 90 90 90\n",
       "Dimensions without coordinates: x, x_b, y, y_b\n",
       "Data variables:\n",
       "    field    (y, x) float64 2.0 2.0 2.0 2.0 2.0 2.0 ... 2.0 2.0 2.0 2.0 2.0 2.0</pre>"
      ],
      "text/plain": [
       "<xarray.Dataset>\n",
       "Dimensions:  (x: 180, x_b: 181, y: 90, y_b: 91)\n",
       "Coordinates:\n",
       "    lon      (y, x) float64 -179.0 -177.0 -175.0 -173.0 ... 175.0 177.0 179.0\n",
       "    lat      (y, x) float64 -89.0 -89.0 -89.0 -89.0 ... 89.0 89.0 89.0 89.0\n",
       "    lon_b    (y_b, x_b) int64 -180 -178 -176 -174 -172 ... 172 174 176 178 180\n",
       "    lat_b    (y_b, x_b) int64 -90 -90 -90 -90 -90 -90 -90 ... 90 90 90 90 90 90\n",
       "Dimensions without coordinates: x, x_b, y, y_b\n",
       "Data variables:\n",
       "    field    (y, x) float64 2.0 2.0 2.0 2.0 2.0 2.0 ... 2.0 2.0 2.0 2.0 2.0 2.0"
      ]
     },
     "execution_count": 3,
     "metadata": {},
     "output_type": "execute_result"
    }
   ],
   "source": [
    "# Create synthetic global data\n",
    "ds = xe.util.grid_global(2, 2)\n",
    "ds = ds.assign(field=xe.data.wave_smooth(ds.lon, ds.lat))\n",
    "ds"
   ]
  },
  {
   "cell_type": "code",
   "execution_count": 4,
   "metadata": {},
   "outputs": [
    {
     "data": {
      "text/plain": [
       "<AxesSubplot:xlabel='lon', ylabel='lat'>"
      ]
     },
     "execution_count": 4,
     "metadata": {},
     "output_type": "execute_result"
    },
    {
     "data": {
      "image/png": "[encoded data removed]",
      "text/plain": [
       "<Figure size 432x288 with 2 Axes>"
      ]
     },
     "metadata": {
      "needs_background": "light"
     },
     "output_type": "display_data"
    }
   ],
   "source": [
    "# Display the global field and countries' outline.\n",
    "fig, ax = plt.subplots()\n",
    "ds.field.plot(ax=ax, x=\"lon\", y=\"lat\")\n",
    "regs.plot(ax=ax, edgecolor=\"k\", facecolor=\"none\")"
   ]
  },
  {
   "cell_type": "markdown",
   "metadata": {},
   "source": [
    "### Compute the field average over each country\n",
    "\n",
    "`xesmf.SpatialAverager` is a class designed to average an `xarray.DataArray`\n",
    "over a list of polygons. It behaves similarly to `xesmf.Regridder`, but has\n",
    "options to deal specifically with polygon outputs. It uses the `conservative`\n",
    "regridding, and can store and reuse weights.\n"
   ]
  },
  {
   "cell_type": "code",
   "execution_count": 5,
   "metadata": {},
   "outputs": [
    {
     "data": {
      "text/plain": [
       "xESMF SpatialAverager \n",
       "Weight filename:            spatialavg_90x180_6.nc \n",
       "Reuse pre-computed weights? False \n",
       "Input grid shape:           (90, 180) \n",
       "Output list length:         6 "
      ]
     },
     "execution_count": 5,
     "metadata": {},
     "output_type": "execute_result"
    }
   ],
   "source": [
    "savg = xe.SpatialAverager(ds, regs.geometry, geom_dim_name=\"country\")\n",
    "savg"
   ]
  },
  {
   "cell_type": "markdown",
   "metadata": {},
   "source": [
    "When called, the `SpatialAverager` instance returns a `DataArray` of averages\n",
    "over the `geom` dimension, here countries. `lon` and `lat` coordinates are the\n",
    "centroids each polygon.\n"
   ]
  },
  {
   "cell_type": "code",
   "execution_count": 6,
   "metadata": {},
   "outputs": [
    {
     "data": {
      "text/html": [
       "<pre>&lt;xarray.DataArray &#x27;field&#x27; (country: 6)&gt;\n",
       "array([1.58448717, 1.49195654, 2.48197742, 2.5740491 , 2.89305772,\n",
       "       1.26271837])\n",
       "Coordinates:\n",
       "    lon      (country) float64 -65.18 103.8 25.09 -3.646 -3.541 -102.5\n",
       "    lat      (country) float64 -35.39 36.56 -29.0 40.23 17.35 23.95\n",
       "  * country  (country) object &#x27;Argentina&#x27; &#x27;China&#x27; ... &#x27;Mali&#x27; &#x27;Mexico&#x27;\n",
       "Attributes:\n",
       "    regrid_method:  conservative</pre>"
      ],
      "text/plain": [
       "<xarray.DataArray 'field' (country: 6)>\n",
       "array([1.58448717, 1.49195654, 2.48197742, 2.5740491 , 2.89305772,\n",
       "       1.26271837])\n",
       "Coordinates:\n",
       "    lon      (country) float64 -65.18 103.8 25.09 -3.646 -3.541 -102.5\n",
       "    lat      (country) float64 -35.39 36.56 -29.0 40.23 17.35 23.95\n",
       "  * country  (country) object 'Argentina' 'China' ... 'Mali' 'Mexico'\n",
       "Attributes:\n",
       "    regrid_method:  conservative"
      ]
     },
     "execution_count": 6,
     "metadata": {},
     "output_type": "execute_result"
    }
   ],
   "source": [
    "out = savg(ds.field)\n",
    "out = out.assign_coords(country=xr.DataArray(regs[\"name\"], dims=(\"country\",)))\n",
    "out"
   ]
  },
  {
   "cell_type": "markdown",
   "metadata": {},
   "source": [
    "As the order of the polygons is conserved in the output, we can easily include\n",
    "the results back into our `geopandas` dataframe.\n"
   ]
  },
  {
   "cell_type": "code",
   "execution_count": 7,
   "metadata": {},
   "outputs": [
    {
     "data": {
      "text/html": [
       "<div>\n",
       "<style scoped>\n",
       "    .dataframe tbody tr th:only-of-type {\n",
       "        vertical-align: middle;\n",
       "    }\n",
       "\n",
       "    .dataframe tbody tr th {\n",
       "        vertical-align: top;\n",
       "    }\n",
       "\n",
       "    .dataframe thead th {\n",
       "        text-align: right;\n",
       "    }\n",
       "</style>\n",
       "<table border=\"1\" class=\"dataframe\">\n",
       "  <thead>\n",
       "    <tr style=\"text-align: right;\">\n",
       "      <th></th>\n",
       "      <th>id</th>\n",
       "      <th>name</th>\n",
       "      <th>geometry</th>\n",
       "      <th>field_avg</th>\n",
       "    </tr>\n",
       "  </thead>\n",
       "  <tbody>\n",
       "    <tr>\n",
       "      <th>5</th>\n",
       "      <td>032</td>\n",
       "      <td>Argentina</td>\n",
       "      <td>MULTIPOLYGON (((-67.19287 -22.82225, -67.02727...</td>\n",
       "      <td>1.584487</td>\n",
       "    </tr>\n",
       "    <tr>\n",
       "      <th>9</th>\n",
       "      <td>156</td>\n",
       "      <td>China</td>\n",
       "      <td>MULTIPOLYGON (((77.79858 35.49614, 77.66178 35...</td>\n",
       "      <td>1.491957</td>\n",
       "    </tr>\n",
       "    <tr>\n",
       "      <th>37</th>\n",
       "      <td>710</td>\n",
       "      <td>South Africa</td>\n",
       "      <td>MULTIPOLYGON (((19.98200 -24.75230, 20.10800 -...</td>\n",
       "      <td>2.481977</td>\n",
       "    </tr>\n",
       "    <tr>\n",
       "      <th>67</th>\n",
       "      <td>724</td>\n",
       "      <td>Spain</td>\n",
       "      <td>MULTIPOLYGON (((-5.34065 35.84736, -5.37665 35...</td>\n",
       "      <td>2.574049</td>\n",
       "    </tr>\n",
       "    <tr>\n",
       "      <th>98</th>\n",
       "      <td>466</td>\n",
       "      <td>Mali</td>\n",
       "      <td>POLYGON ((-12.26352 14.77561, -12.13752 14.784...</td>\n",
       "      <td>2.893058</td>\n",
       "    </tr>\n",
       "    <tr>\n",
       "      <th>155</th>\n",
       "      <td>484</td>\n",
       "      <td>Mexico</td>\n",
       "      <td>MULTIPOLYGON (((-97.13797 25.96581, -97.16677 ...</td>\n",
       "      <td>1.262718</td>\n",
       "    </tr>\n",
       "  </tbody>\n",
       "</table>\n",
       "</div>"
      ],
      "text/plain": [
       "      id          name                                           geometry  \\\n",
       "5    032     Argentina  MULTIPOLYGON (((-67.19287 -22.82225, -67.02727...   \n",
       "9    156         China  MULTIPOLYGON (((77.79858 35.49614, 77.66178 35...   \n",
       "37   710  South Africa  MULTIPOLYGON (((19.98200 -24.75230, 20.10800 -...   \n",
       "67   724         Spain  MULTIPOLYGON (((-5.34065 35.84736, -5.37665 35...   \n",
       "98   466          Mali  POLYGON ((-12.26352 14.77561, -12.13752 14.784...   \n",
       "155  484        Mexico  MULTIPOLYGON (((-97.13797 25.96581, -97.16677 ...   \n",
       "\n",
       "     field_avg  \n",
       "5     1.584487  \n",
       "9     1.491957  \n",
       "37    2.481977  \n",
       "67    2.574049  \n",
       "98    2.893058  \n",
       "155   1.262718  "
      ]
     },
     "execution_count": 7,
     "metadata": {},
     "output_type": "execute_result"
    }
   ],
   "source": [
    "regs[\"field_avg\"] = out.values\n",
    "regs"
   ]
  },
  {
   "cell_type": "code",
   "execution_count": 8,
   "metadata": {},
   "outputs": [
    {
     "data": {
      "image/png": "[encoded data removed]",
      "text/plain": [
       "<Figure size 864x360 with 2 Axes>"
      ]
     },
     "metadata": {
      "needs_background": "light"
     },
     "output_type": "display_data"
    }
   ],
   "source": [
    "fig, ax = plt.subplots(figsize=(12, 5))\n",
    "ds.field.plot(ax=ax, x=\"lon\", y=\"lat\", cmap=\"Greys_r\")\n",
    "handles = regs.plot(\n",
    "    column=\"field_avg\", ax=ax, edgecolor=\"k\", vmin=1, vmax=3, cmap=\"viridis\"\n",
    ")"
   ]
  },
  {
   "cell_type": "markdown",
   "metadata": {},
   "source": [
    "### Extract the weight mask from the averager\n",
    "\n",
    "The weights are stored in a sparse matrix structure in\n",
    "`SpatialAverager.weights`. The sparse matrix can be converted to a full\n",
    "DataArray, but note that this will increase memory usage proportional to the\n",
    "number of polygons.\n"
   ]
  },
  {
   "cell_type": "code",
   "execution_count": 9,
   "metadata": {},
   "outputs": [
    {
     "data": {
      "text/plain": [
       "<Figure size 432x288 with 0 Axes>"
      ]
     },
     "metadata": {},
     "output_type": "display_data"
    },
    {
     "data": {
      "image/png": "[encoded data removed]",
      "text/plain": [
       "<Figure size 936x648 with 7 Axes>"
      ]
     },
     "metadata": {
      "needs_background": "light"
     },
     "output_type": "display_data"
    }
   ],
   "source": [
    "# Convert sparse matrix to numpy array, it has size : (n_in, n_out)\n",
    "# So reshape to the same shape as ds + polygons\n",
    "w = xr.DataArray(\n",
    "    savg.weights.toarray().reshape(regs.geometry.size, *ds.lon.shape),\n",
    "    dims=(\"country\", *ds.lon.dims),\n",
    "    coords=dict(country=out.country, **ds.lon.coords),\n",
    ")\n",
    "plt.subplots_adjust(top=0.9)\n",
    "facets = w.plot(col=\"country\", col_wrap=2, aspect=2, vmin=0, vmax=0.05)\n",
    "facets.cbar.set_label(\"Averaging weights\")"
   ]
  },
  {
   "cell_type": "markdown",
   "metadata": {},
   "source": [
    "This also allows to quickly check that the weights are indeed normalized, that\n",
    "the sum of each mask is 1.\n"
   ]
  },
  {
   "cell_type": "code",
   "execution_count": 10,
   "metadata": {
    "pycharm": {
     "name": "#%%\n"
    }
   },
   "outputs": [
    {
     "data": {
      "text/plain": [
       "array([1., 1., 1., 1., 1., 1.])"
      ]
     },
     "execution_count": 10,
     "metadata": {},
     "output_type": "execute_result"
    }
   ],
   "source": [
    "w.sum(dim=[\"y\", \"x\"]).values"
   ]
  }
 ],
 "metadata": {
  "kernelspec": {
   "display_name": "Python 3",
   "language": "python",
   "name": "python3"
  },
  "language_info": {
   "codemirror_mode": {
    "name": "ipython",
    "version": 3
   },
   "file_extension": ".py",
   "mimetype": "text/x-python",
   "name": "python",
   "nbconvert_exporter": "python",
   "pygments_lexer": "ipython3",
   "version": "3.8.5"
  }
 },
 "nbformat": 4,
 "nbformat_minor": 4
}
